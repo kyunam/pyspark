{
 "cells": [
  {
   "cell_type": "code",
   "execution_count": 1,
   "id": "5504c6e9-05db-4ff0-a1b2-6b1f53cd13ba",
   "metadata": {},
   "outputs": [],
   "source": [
    "import bdt\n",
    "\n",
    "bdt.auth(\"poc.lic\")\n",
    "spark.conf.set('spark.sql.repl.eagerEval.enabled', True)"
   ]
  },
  {
   "cell_type": "code",
   "execution_count": 4,
   "id": "1fc1349e-8568-4a29-bd39-c9eda2be43c8",
   "metadata": {},
   "outputs": [
    {
     "data": {
      "text/html": [
       "<table border='1'>\n",
       "<tr><th>function</th></tr>\n",
       "<tr><td>st_area</td></tr>\n",
       "<tr><td>st_asgeojson</td></tr>\n",
       "<tr><td>st_ashex</td></tr>\n",
       "<tr><td>st_asjson</td></tr>\n",
       "<tr><td>st_asqr</td></tr>\n",
       "<tr><td>st_asqrclip</td></tr>\n",
       "<tr><td>st_asqrprune</td></tr>\n",
       "<tr><td>st_asqrspill</td></tr>\n",
       "<tr><td>st_asrc</td></tr>\n",
       "<tr><td>st_asrcclip</td></tr>\n",
       "<tr><td>st_asrcprune</td></tr>\n",
       "<tr><td>st_asrcspill</td></tr>\n",
       "<tr><td>st_astext</td></tr>\n",
       "<tr><td>st_buffer</td></tr>\n",
       "<tr><td>st_buffergeodesic</td></tr>\n",
       "<tr><td>st_centroid</td></tr>\n",
       "<tr><td>st_contains</td></tr>\n",
       "<tr><td>st_coverage</td></tr>\n",
       "<tr><td>st_createfishnet</td></tr>\n",
       "<tr><td>st_createneighbors</td></tr>\n",
       "</table>\n",
       "only showing top 20 rows\n"
      ],
      "text/plain": [
       "+------------------+\n",
       "|          function|\n",
       "+------------------+\n",
       "|           st_area|\n",
       "|      st_asgeojson|\n",
       "|          st_ashex|\n",
       "|         st_asjson|\n",
       "|           st_asqr|\n",
       "|       st_asqrclip|\n",
       "|      st_asqrprune|\n",
       "|      st_asqrspill|\n",
       "|           st_asrc|\n",
       "|       st_asrcclip|\n",
       "|      st_asrcprune|\n",
       "|      st_asrcspill|\n",
       "|         st_astext|\n",
       "|         st_buffer|\n",
       "| st_buffergeodesic|\n",
       "|       st_centroid|\n",
       "|       st_contains|\n",
       "|       st_coverage|\n",
       "|  st_createfishnet|\n",
       "|st_createneighbors|\n",
       "+------------------+\n",
       "only showing top 20 rows"
      ]
     },
     "execution_count": 4,
     "metadata": {},
     "output_type": "execute_result"
    }
   ],
   "source": [
    "spark.sql(\"show functions like 'st_*'\")"
   ]
  },
  {
   "cell_type": "code",
   "execution_count": 7,
   "id": "13e475b7-2249-453d-b7f4-6644423120ad",
   "metadata": {},
   "outputs": [
    {
     "name": "stdout",
     "output_type": "stream",
     "text": [
      "+-------------------------------------------+\n",
      "|SHAPE                                      |\n",
      "+-------------------------------------------+\n",
      "|{\u0001\u0001\u0000\u0000\u0000�������?������\u0001@, 1.1, 2.2, 1.1, 2.2}|\n",
      "+-------------------------------------------+\n",
      "\n"
     ]
    }
   ],
   "source": [
    "df = spark.sql('SELECT ST_FromXY(1.1, 2.2) SHAPE')\n",
    "df.show(truncate=False)"
   ]
  },
  {
   "cell_type": "code",
   "execution_count": null,
   "id": "34a8d51d-4642-4464-91fc-d56af9204584",
   "metadata": {},
   "outputs": [],
   "source": []
  }
 ],
 "metadata": {
  "kernelspec": {
   "display_name": "Python 3 (ipykernel)",
   "language": "python",
   "name": "python3"
  },
  "language_info": {
   "codemirror_mode": {
    "name": "ipython",
    "version": 3
   },
   "file_extension": ".py",
   "mimetype": "text/x-python",
   "name": "python",
   "nbconvert_exporter": "python",
   "pygments_lexer": "ipython3",
   "version": "3.9.12"
  }
 },
 "nbformat": 4,
 "nbformat_minor": 5
}
