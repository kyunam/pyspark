{
 "cells": [
  {
   "cell_type": "code",
   "execution_count": 1,
   "id": "5504c6e9-05db-4ff0-a1b2-6b1f53cd13ba",
   "metadata": {
    "pycharm": {
     "name": "#%%\n"
    }
   },
   "outputs": [
    {
     "ename": "TypeError",
     "evalue": "'JavaPackage' object is not callable",
     "output_type": "error",
     "traceback": [
      "\u001B[0;31m---------------------------------------------------------------------------\u001B[0m",
      "\u001B[0;31mTypeError\u001B[0m                                 Traceback (most recent call last)",
      "Input \u001B[0;32mIn [1]\u001B[0m, in \u001B[0;36m<cell line: 3>\u001B[0;34m()\u001B[0m\n\u001B[1;32m      1\u001B[0m \u001B[38;5;28;01mimport\u001B[39;00m \u001B[38;5;21;01mbdt\u001B[39;00m\n\u001B[0;32m----> 3\u001B[0m \u001B[43mbdt\u001B[49m\u001B[38;5;241;43m.\u001B[39;49m\u001B[43mauth\u001B[49m\u001B[43m(\u001B[49m\u001B[38;5;124;43m\"\u001B[39;49m\u001B[38;5;124;43m../poc.lic\u001B[39;49m\u001B[38;5;124;43m\"\u001B[39;49m\u001B[43m)\u001B[49m\n\u001B[1;32m      4\u001B[0m spark\u001B[38;5;241m.\u001B[39mconf\u001B[38;5;241m.\u001B[39mset(\u001B[38;5;124m'\u001B[39m\u001B[38;5;124mspark.sql.repl.eagerEval.enabled\u001B[39m\u001B[38;5;124m'\u001B[39m, \u001B[38;5;28;01mTrue\u001B[39;00m)\n",
      "File \u001B[0;32m/private/var/folders/jz/17vdk36155dg578xtch23gn87w4zdp/T/spark-a8928bd1-aebf-4904-aaac-cf4b5785fd91/userFiles-dc363bcc-b995-4d00-8734-0a1fdd72eafc/bdt-3.0.0+snapshot-py3.10.egg/bdt/__init__.py:26\u001B[0m, in \u001B[0;36mauth\u001B[0;34m(lic)\u001B[0m\n\u001B[1;32m     22\u001B[0m     \u001B[38;5;28;01mraise\u001B[39;00m \u001B[38;5;167;01mException\u001B[39;00m(\u001B[38;5;124m\"\u001B[39m\u001B[38;5;124mBDT3 cannot be authorized because there is no active SparkSession!\u001B[39m\u001B[38;5;124m\"\u001B[39m)\n\u001B[1;32m     24\u001B[0m \u001B[38;5;28;01melse\u001B[39;00m:\n\u001B[0;32m---> 26\u001B[0m     \u001B[43m__ctx\u001B[49m\u001B[38;5;241;43m.\u001B[39;49m\u001B[43mstart\u001B[49m\u001B[43m(\u001B[49m\u001B[43m__ss\u001B[49m\u001B[38;5;241;43m.\u001B[39;49m\u001B[43msparkContext\u001B[49m\u001B[43m,\u001B[49m\u001B[43m \u001B[49m\u001B[43mlic\u001B[49m\u001B[43m)\u001B[49m\n\u001B[1;32m     28\u001B[0m     \u001B[38;5;28;01mdef\u001B[39;00m \u001B[38;5;21m__with_meta\u001B[39m(df: DataFrame,\n\u001B[1;32m     29\u001B[0m                     geometryType: \u001B[38;5;28mstr\u001B[39m,\n\u001B[1;32m     30\u001B[0m                     wkid: \u001B[38;5;28mint\u001B[39m,\n\u001B[1;32m     31\u001B[0m                     shapeField: \u001B[38;5;28mstr\u001B[39m \u001B[38;5;241m=\u001B[39m \u001B[38;5;124m\"\u001B[39m\u001B[38;5;124mSHAPE\u001B[39m\u001B[38;5;124m\"\u001B[39m) \u001B[38;5;241m-\u001B[39m\u001B[38;5;241m>\u001B[39m DataFrame:\n\u001B[1;32m     32\u001B[0m         \u001B[38;5;124;03m\"\"\"\u001B[39;00m\n\u001B[1;32m     33\u001B[0m \u001B[38;5;124;03m        :return: function to add metadata to a dataframe\u001B[39;00m\n\u001B[1;32m     34\u001B[0m \u001B[38;5;124;03m        \"\"\"\u001B[39;00m\n",
      "File \u001B[0;32m/private/var/folders/jz/17vdk36155dg578xtch23gn87w4zdp/T/spark-a8928bd1-aebf-4904-aaac-cf4b5785fd91/userFiles-dc363bcc-b995-4d00-8734-0a1fdd72eafc/bdt-3.0.0+snapshot-py3.10.egg/bdt/context.py:22\u001B[0m, in \u001B[0;36mContext.start\u001B[0;34m(self, sc, lic)\u001B[0m\n\u001B[1;32m     20\u001B[0m \u001B[38;5;28mself\u001B[39m\u001B[38;5;241m.\u001B[39m__exprCtx \u001B[38;5;241m=\u001B[39m sc\u001B[38;5;241m.\u001B[39m_jvm\u001B[38;5;241m.\u001B[39mcom\u001B[38;5;241m.\u001B[39mesri\u001B[38;5;241m.\u001B[39mcontext\u001B[38;5;241m.\u001B[39mExpressionContext\n\u001B[1;32m     21\u001B[0m \u001B[38;5;28mself\u001B[39m\u001B[38;5;241m.\u001B[39m__sinkCtx \u001B[38;5;241m=\u001B[39m sc\u001B[38;5;241m.\u001B[39m_jvm\u001B[38;5;241m.\u001B[39mcom\u001B[38;5;241m.\u001B[39mesri\u001B[38;5;241m.\u001B[39mcontext\u001B[38;5;241m.\u001B[39mSinkContext\n\u001B[0;32m---> 22\u001B[0m \u001B[38;5;28;43mself\u001B[39;49m\u001B[38;5;241;43m.\u001B[39;49m\u001B[43m__ctx\u001B[49m\u001B[38;5;241;43m.\u001B[39;49m\u001B[43mstart\u001B[49m\u001B[43m(\u001B[49m\u001B[43mlic\u001B[49m\u001B[43m)\u001B[49m\n",
      "\u001B[0;31mTypeError\u001B[0m: 'JavaPackage' object is not callable"
     ]
    }
   ],
   "source": [
    "import bdt\n",
    "\n",
    "bdt.auth(\"../poc.lic\")\n",
    "spark.conf.set('spark.sql.repl.eagerEval.enabled', True)"
   ]
  },
  {
   "cell_type": "code",
   "execution_count": 2,
   "id": "1fc1349e-8568-4a29-bd39-c9eda2be43c8",
   "metadata": {
    "pycharm": {
     "name": "#%%\n"
    }
   },
   "outputs": [
    {
     "data": {
      "text/html": [
       "<table border='1'>\n",
       "<tr><th>function</th></tr>\n",
       "<tr><td>st_area</td></tr>\n",
       "<tr><td>st_asgeojson</td></tr>\n",
       "<tr><td>st_ashex</td></tr>\n",
       "<tr><td>st_asjson</td></tr>\n",
       "<tr><td>st_asqr</td></tr>\n",
       "<tr><td>st_asqrclip</td></tr>\n",
       "<tr><td>st_asqrprune</td></tr>\n",
       "<tr><td>st_asqrspill</td></tr>\n",
       "<tr><td>st_asrc</td></tr>\n",
       "<tr><td>st_asrcclip</td></tr>\n",
       "<tr><td>st_asrcprune</td></tr>\n",
       "<tr><td>st_asrcspill</td></tr>\n",
       "<tr><td>st_astext</td></tr>\n",
       "<tr><td>st_buffer</td></tr>\n",
       "<tr><td>st_buffergeodesic</td></tr>\n",
       "<tr><td>st_centroid</td></tr>\n",
       "<tr><td>st_contains</td></tr>\n",
       "<tr><td>st_coverage</td></tr>\n",
       "<tr><td>st_createfishnet</td></tr>\n",
       "<tr><td>st_createneighbors</td></tr>\n",
       "</table>\n",
       "only showing top 20 rows\n"
      ],
      "text/plain": [
       "+------------------+\n",
       "|          function|\n",
       "+------------------+\n",
       "|           st_area|\n",
       "|      st_asgeojson|\n",
       "|          st_ashex|\n",
       "|         st_asjson|\n",
       "|           st_asqr|\n",
       "|       st_asqrclip|\n",
       "|      st_asqrprune|\n",
       "|      st_asqrspill|\n",
       "|           st_asrc|\n",
       "|       st_asrcclip|\n",
       "|      st_asrcprune|\n",
       "|      st_asrcspill|\n",
       "|         st_astext|\n",
       "|         st_buffer|\n",
       "| st_buffergeodesic|\n",
       "|       st_centroid|\n",
       "|       st_contains|\n",
       "|       st_coverage|\n",
       "|  st_createfishnet|\n",
       "|st_createneighbors|\n",
       "+------------------+\n",
       "only showing top 20 rows"
      ]
     },
     "execution_count": 2,
     "metadata": {},
     "output_type": "execute_result"
    }
   ],
   "source": [
    "spark.sql(\"show functions like 'st_*'\")"
   ]
  },
  {
   "cell_type": "code",
   "execution_count": 5,
   "id": "13e475b7-2249-453d-b7f4-6644423120ad",
   "metadata": {
    "pycharm": {
     "name": "#%%\n"
    }
   },
   "outputs": [
    {
     "name": "stdout",
     "output_type": "stream",
     "text": [
      "+-------------------------------------------+\n",
      "|SHAPE                                      |\n",
      "+-------------------------------------------+\n",
      "|{\u0001\u0001\u0000\u0000\u0000�������?������\u0001@, 1.1, 2.2, 1.1, 2.2}|\n",
      "+-------------------------------------------+\n",
      "\n"
     ]
    },
    {
     "name": "stderr",
     "output_type": "stream",
     "text": [
      "                                                                                \r"
     ]
    }
   ],
   "source": [
    "df = spark.sql('SELECT ST_FromXY(1.1, 2.2) SHAPE')\n",
    "df.show(truncate=False)"
   ]
  },
  {
   "cell_type": "code",
   "execution_count": 6,
   "id": "c154cbda-6651-43d6-9081-517440c72505",
   "metadata": {
    "pycharm": {
     "name": "#%%\n"
    }
   },
   "outputs": [
    {
     "data": {
      "text/html": [
       "<table border='1'>\n",
       "<tr><th>X</th><th>Y</th></tr>\n",
       "<tr><td>1.1</td><td>2.2</td></tr>\n",
       "</table>\n"
      ],
      "text/plain": [
       "+---+---+\n",
       "|  X|  Y|\n",
       "+---+---+\n",
       "|1.1|2.2|\n",
       "+---+---+"
      ]
     },
     "execution_count": 6,
     "metadata": {},
     "output_type": "execute_result"
    }
   ],
   "source": [
    "df\\\n",
    ".selectExpr('ST_X(SHAPE) X', 'ST_Y(SHAPE) Y')"
   ]
  },
  {
   "cell_type": "code",
   "execution_count": 2,
   "id": "2fc38b26-6724-4589-a559-8fec5c53f7ef",
   "metadata": {
    "pycharm": {
     "name": "#%%\n"
    }
   },
   "outputs": [],
   "source": [
    "from bdt import functions as F\n",
    "from pyspark.sql.functions import *"
   ]
  },
  {
   "cell_type": "code",
   "execution_count": 9,
   "id": "ce3e0909-a6ed-42f3-9f80-15f55b07da96",
   "metadata": {
    "pycharm": {
     "name": "#%%\n"
    }
   },
   "outputs": [
    {
     "data": {
      "text/html": [
       "<table border='1'>\n",
       "<tr><th>stx(SHAPE)</th><th>sty(SHAPE)</th></tr>\n",
       "<tr><td>1.1</td><td>2.2</td></tr>\n",
       "</table>\n"
      ],
      "text/plain": [
       "+----------+----------+\n",
       "|stx(SHAPE)|sty(SHAPE)|\n",
       "+----------+----------+\n",
       "|       1.1|       2.2|\n",
       "+----------+----------+"
      ]
     },
     "execution_count": 9,
     "metadata": {},
     "output_type": "execute_result"
    }
   ],
   "source": [
    "df.select(\n",
    "    F.st_x(col('SHAPE')), \n",
    "    F.st_y(col('SHAPE'))\n",
    ")"
   ]
  },
  {
   "cell_type": "code",
   "execution_count": 3,
   "id": "34fb7448-db59-42b2-bf69-ab7b9405734f",
   "metadata": {
    "pycharm": {
     "name": "#%%\n"
    }
   },
   "outputs": [
    {
     "name": "stderr",
     "output_type": "stream",
     "text": [
      "                                                                                \r"
     ]
    },
    {
     "data": {
      "text/html": [
       "<table border='1'>\n",
       "<tr><th>good line</th><th>bad poly</th></tr>\n",
       "<tr><td>true</td><td>false</td></tr>\n",
       "</table>\n"
      ],
      "text/plain": [
       "+---------+--------+\n",
       "|good line|bad poly|\n",
       "+---------+--------+\n",
       "|     true|   false|\n",
       "+---------+--------+"
      ]
     },
     "execution_count": 3,
     "metadata": {},
     "output_type": "execute_result"
    }
   ],
   "source": [
    "sql(\"\"\"\n",
    "    SELECT\n",
    "        ST_IsValid(ST_FromText('LINESTRING(0 0, 1 1)'), 4326) As `good line`,\n",
    "        ST_IsValid(ST_FromText('POLYGON((0 0, 1 1, 1 2, 1 1, 0 0))'), 4326) As `bad poly`\n",
    "\"\"\")"
   ]
  },
  {
   "cell_type": "code",
   "execution_count": 21,
   "id": "badb4504-2ae6-4e08-b24e-76d9eb04a911",
   "metadata": {
    "pycharm": {
     "name": "#%%\n"
    }
   },
   "outputs": [
    {
     "data": {
      "text/html": [
       "<table border='1'>\n",
       "<tr><th>good line</th><th>bad poly</th></tr>\n",
       "<tr><td>true</td><td>false</td></tr>\n",
       "</table>\n"
      ],
      "text/plain": [
       "+---------+--------+\n",
       "|good line|bad poly|\n",
       "+---------+--------+\n",
       "|     true|   false|\n",
       "+---------+--------+"
      ]
     },
     "execution_count": 21,
     "metadata": {},
     "output_type": "execute_result"
    }
   ],
   "source": [
    "sql(\"\"\"\n",
    "    SELECT\n",
    "        ST_IsValid(ST_FromText('LINESTRING(0 0, 1 1)'), wkid) As `good line`,\n",
    "        ST_IsValid(ST_FromText('POLYGON((0 0, 1 1, 1 2, 1 1, 0 0))'), wkid) As `bad poly`\n",
    "    FROM (SELECT 4326 as wkid)\n",
    "\"\"\")"
   ]
  },
  {
   "cell_type": "code",
   "execution_count": 2,
   "id": "72439383-63c0-4f7b-b533-aa2449ce141a",
   "metadata": {
    "pycharm": {
     "name": "#%%\n"
    }
   },
   "outputs": [
    {
     "name": "stderr",
     "output_type": "stream",
     "text": [
      "                                                                                \r"
     ]
    },
    {
     "data": {
      "text/html": [
       "<table border='1'>\n",
       "<tr><th>stisempty(ST_FromText(MULTIPOLYGON EMPTY))</th></tr>\n",
       "<tr><td>true</td></tr>\n",
       "</table>\n"
      ],
      "text/plain": [
       "+------------------------------------------+\n",
       "|stisempty(ST_FromText(MULTIPOLYGON EMPTY))|\n",
       "+------------------------------------------+\n",
       "|                                      true|\n",
       "+------------------------------------------+"
      ]
     },
     "execution_count": 2,
     "metadata": {},
     "output_type": "execute_result"
    }
   ],
   "source": [
    "sql(\"\"\"\n",
    "SELECT ST_IsEmpty(ST_FromText('MULTIPOLYGON EMPTY'))\n",
    "\"\"\")"
   ]
  },
  {
   "cell_type": "code",
   "execution_count": 6,
   "id": "3fa338a7-a081-4553-94ea-b8ae2c423a1e",
   "metadata": {
    "pycharm": {
     "name": "#%%\n"
    }
   },
   "outputs": [
    {
     "data": {
      "text/html": [
       "<table border='1'>\n",
       "<tr><th>stisempty(ST_FromText(MULTIPOLYGON EMPTY))</th></tr>\n",
       "<tr><td>true</td></tr>\n",
       "</table>\n"
      ],
      "text/plain": [
       "+------------------------------------------+\n",
       "|stisempty(ST_FromText(MULTIPOLYGON EMPTY))|\n",
       "+------------------------------------------+\n",
       "|                                      true|\n",
       "+------------------------------------------+"
      ]
     },
     "execution_count": 6,
     "metadata": {},
     "output_type": "execute_result"
    }
   ],
   "source": [
    "sql(\"\"\"\n",
    "SELECT ST_IsEmpty(ST_FromText('MULTIPOLYGON EMPTY'))\n",
    "\"\"\")"
   ]
  },
  {
   "cell_type": "code",
   "execution_count": 17,
   "id": "8acdfa58-1378-44e2-84cd-aaf38aafb7b4",
   "metadata": {
    "pycharm": {
     "name": "#%%\n"
    }
   },
   "outputs": [
    {
     "data": {
      "text/html": [
       "<table border='1'>\n",
       "<tr><th>size(arr)</th></tr>\n",
       "<tr><td>0</td></tr>\n",
       "</table>\n"
      ],
      "text/plain": [
       "+---------+\n",
       "|size(arr)|\n",
       "+---------+\n",
       "|        0|\n",
       "+---------+"
      ]
     },
     "execution_count": 17,
     "metadata": {},
     "output_type": "execute_result"
    }
   ],
   "source": [
    "# https://stackoverflow.com/questions/34660867/convert-null-values-to-empty-array-in-spark-dataframe\n",
    "sql(\"\"\"\n",
    "with t as (SELECT CAST(arr as array<binary>) FROM (SELECT array() arr))\n",
    "SELECT size(arr) FROM t\n",
    "\"\"\")"
   ]
  },
  {
   "cell_type": "code",
   "execution_count": 23,
   "id": "5ef46fe2-6f29-4ea5-98bd-a26705c6f652",
   "metadata": {
    "pycharm": {
     "name": "#%%\n"
    }
   },
   "outputs": [
    {
     "data": {
      "text/html": [
       "<table border='1'>\n",
       "<tr><th>arr</th></tr>\n",
       "<tr><td>[]</td></tr>\n",
       "</table>\n"
      ],
      "text/plain": [
       "+---+\n",
       "|arr|\n",
       "+---+\n",
       "| []|\n",
       "+---+"
      ]
     },
     "execution_count": 23,
     "metadata": {},
     "output_type": "execute_result"
    }
   ],
   "source": [
    "sql(\"\"\"\n",
    "with t as (SELECT CAST(array() as array<binary>) arr)\n",
    "SELECT * FROM t\n",
    "\"\"\")"
   ]
  },
  {
   "cell_type": "code",
   "execution_count": 7,
   "id": "e5fcd04e-5eb4-4878-bcc7-c6c9a3736164",
   "metadata": {
    "pycharm": {
     "name": "#%%\n"
    }
   },
   "outputs": [
    {
     "name": "stderr",
     "output_type": "stream",
     "text": [
      "                                                                                \r"
     ]
    }
   ],
   "source": [
    "spark\\\n",
    ".read\\\n",
    ".format('SHP')\\\n",
    ".option('path','/Users/kyun4731/Downloads/North_American_Roads/North_American_Roads.shp')\\\n",
    ".option('format','WKB')\\\n",
    ".load()\\\n",
    ".filter('length(shape) > 0')\\\n",
    ".selectExpr('ST_FromWKB(shape) SHAPE')\\\n",
    ".write\\\n",
    ".mode('Overwrite')\\\n",
    ".parquet('/tmp/deleteme')"
   ]
  },
  {
   "cell_type": "code",
   "execution_count": null,
   "id": "2b70213d-0c34-4afe-9278-6ac658dd5c54",
   "metadata": {
    "pycharm": {
     "name": "#%%\n"
    }
   },
   "outputs": [],
   "source": []
  }
 ],
 "metadata": {
  "kernelspec": {
   "display_name": "Python 3 (ipykernel)",
   "language": "python",
   "name": "python3"
  },
  "language_info": {
   "codemirror_mode": {
    "name": "ipython",
    "version": 3
   },
   "file_extension": ".py",
   "mimetype": "text/x-python",
   "name": "python",
   "nbconvert_exporter": "python",
   "pygments_lexer": "ipython3",
   "version": "3.9.13"
  }
 },
 "nbformat": 4,
 "nbformat_minor": 5
}